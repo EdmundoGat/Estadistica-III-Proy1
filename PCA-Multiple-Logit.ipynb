{
 "cells": [
  {
   "cell_type": "code",
   "execution_count": 1,
   "metadata": {},
   "outputs": [],
   "source": [
    "#Estadistica Aplicada III\n",
    "#Proyecto !\n",
    "#Luis Edmundo Gatica Norato, CU: 150703"
   ]
  },
  {
   "cell_type": "code",
   "execution_count": 2,
   "metadata": {},
   "outputs": [],
   "source": [
    "from matplotlib import pyplot\n",
    "from matplotlib.widgets import Slider\n",
    "from PIL import Image\n",
    "import numpy as np\n",
    "import pandas as pd\n",
    "import matplotlib.pyplot as plt\n",
    "from sklearn.decomposition import PCA"
   ]
  },
  {
   "cell_type": "code",
   "execution_count": 3,
   "metadata": {},
   "outputs": [],
   "source": [
    "X = np.zeros((2091,32256))\n",
    "y = np.zeros((2091))\n",
    "wm = [5, 15, 22, 24, 27, 28, 32, 34, 37]"
   ]
  },
  {
   "cell_type": "code",
   "execution_count": 4,
   "metadata": {},
   "outputs": [],
   "source": [
    "for j in range (1,40):\n",
    "    if(j!=14):\n",
    "        if(j<10):\n",
    "            path = \"/Users/mundogn/Documents/Estadistica-III-Proy1/CroppedYale_3/yaleB0\"+str(j)+\"/\"\n",
    "        else:\n",
    "            path = \"/Users/mundogn/Documents/Estadistica-III-Proy1/CroppedYale_3/yaleB\"+str(j)+\"/\"\n",
    "        for i in range(1,56):\n",
    "            im = Image.open(path+str(i)+\".pgm\")\n",
    "            aux = np.asarray(im.getdata())\n",
    "            aux = np.transpose(aux)\n",
    "            if(j<14):\n",
    "                X[(j-1)*55+i-1] = aux\n",
    "                y[(j-1)*55+i-1]=j\n",
    "            else:\n",
    "                X[(j-2)*55+i-1] = aux\n",
    "                y[(j-2)*55+i-1]=j\n",
    "    "
   ]
  },
  {
   "cell_type": "code",
   "execution_count": 4,
   "metadata": {},
   "outputs": [
    {
     "data": {
      "text/plain": [
       "array([110., 110., 109., ...,  14.,  15.,  13.])"
      ]
     },
     "execution_count": 4,
     "metadata": {},
     "output_type": "execute_result"
    }
   ],
   "source": [
    "X[1000]"
   ]
  },
  {
   "cell_type": "code",
   "execution_count": null,
   "metadata": {},
   "outputs": [
    {
     "data": {
      "text/plain": [
       "array([4., 4., 4., ..., 4., 1., 2.])"
      ]
     },
     "execution_count": 5,
     "metadata": {},
     "output_type": "execute_result"
    }
   ],
   "source": [
    "X[2085]"
   ]
  },
  {
   "cell_type": "code",
   "execution_count": 5,
   "metadata": {},
   "outputs": [],
   "source": [
    "X_hat = X.mean(axis=0)\n",
    "len(X_hat)\n",
    "X = X - X_hat"
   ]
  },
  {
   "cell_type": "code",
   "execution_count": 6,
   "metadata": {},
   "outputs": [],
   "source": [
    "pca = PCA(n_components = 15)\n",
    "principalComponents = pca.fit_transform(X)"
   ]
  },
  {
   "cell_type": "code",
   "execution_count": 7,
   "metadata": {},
   "outputs": [
    {
     "data": {
      "text/plain": [
       "0.8749444454629942"
      ]
     },
     "execution_count": 7,
     "metadata": {},
     "output_type": "execute_result"
    }
   ],
   "source": [
    "np.sum(pca.explained_variance_ratio_)"
   ]
  },
  {
   "cell_type": "code",
   "execution_count": 8,
   "metadata": {},
   "outputs": [
    {
     "data": {
      "text/html": [
       "<div>\n",
       "<style scoped>\n",
       "    .dataframe tbody tr th:only-of-type {\n",
       "        vertical-align: middle;\n",
       "    }\n",
       "\n",
       "    .dataframe tbody tr th {\n",
       "        vertical-align: top;\n",
       "    }\n",
       "\n",
       "    .dataframe thead th {\n",
       "        text-align: right;\n",
       "    }\n",
       "</style>\n",
       "<table border=\"1\" class=\"dataframe\">\n",
       "  <thead>\n",
       "    <tr style=\"text-align: right;\">\n",
       "      <th></th>\n",
       "      <th>Varianza explicada por componente</th>\n",
       "    </tr>\n",
       "  </thead>\n",
       "  <tbody>\n",
       "    <tr>\n",
       "      <th>0</th>\n",
       "      <td>0.407912</td>\n",
       "    </tr>\n",
       "    <tr>\n",
       "      <th>1</th>\n",
       "      <td>0.291822</td>\n",
       "    </tr>\n",
       "    <tr>\n",
       "      <th>2</th>\n",
       "      <td>0.055247</td>\n",
       "    </tr>\n",
       "    <tr>\n",
       "      <th>3</th>\n",
       "      <td>0.027917</td>\n",
       "    </tr>\n",
       "    <tr>\n",
       "      <th>4</th>\n",
       "      <td>0.016775</td>\n",
       "    </tr>\n",
       "  </tbody>\n",
       "</table>\n",
       "</div>"
      ],
      "text/plain": [
       "   Varianza explicada por componente\n",
       "0                           0.407912\n",
       "1                           0.291822\n",
       "2                           0.055247\n",
       "3                           0.027917\n",
       "4                           0.016775"
      ]
     },
     "execution_count": 8,
     "metadata": {},
     "output_type": "execute_result"
    }
   ],
   "source": [
    "principalDf = pd.DataFrame(data = pca.explained_variance_ratio_\n",
    "             , columns = ['Varianza explicada por componente'])\n",
    "principalDf.head(5)"
   ]
  },
  {
   "cell_type": "code",
   "execution_count": 21,
   "metadata": {},
   "outputs": [
    {
     "name": "stderr",
     "output_type": "stream",
     "text": [
      "/Users/mundogn/Library/Python/3.7/lib/python/site-packages/sklearn/linear_model/logistic.py:758: ConvergenceWarning: lbfgs failed to converge. Increase the number of iterations.\n",
      "  \"of iterations.\", ConvergenceWarning)\n"
     ]
    },
    {
     "data": {
      "text/plain": [
       "0.722753346080306"
      ]
     },
     "execution_count": 21,
     "metadata": {},
     "output_type": "execute_result"
    }
   ],
   "source": [
    "from sklearn.linear_model import LogisticRegression\n",
    "from sklearn.metrics import accuracy_score\n",
    "from sklearn.model_selection import train_test_split\n",
    "X_train,X_test,y_train,y_test=train_test_split(principalComponents,y,test_size=0.25,random_state=40)\n",
    "\n",
    "\n",
    "model = LogisticRegression(solver='lbfgs',max_iter=2000,multi_class='auto')\n",
    "model.fit(X_train, y_train)\n",
    "y_pred = model.predict(X_test)\n",
    "accuracy = accuracy_score(y_test,y_pred)\n",
    "parameters = model.coef_\n",
    "accuracy"
   ]
  },
  {
   "cell_type": "code",
   "execution_count": 22,
   "metadata": {
    "scrolled": true
   },
   "outputs": [
    {
     "data": {
      "text/plain": [
       "array([[ 0,  0,  0, ...,  0,  1,  0],\n",
       "       [ 0, 10,  0, ...,  1,  0,  0],\n",
       "       [ 0,  0,  9, ...,  0,  0,  0],\n",
       "       ...,\n",
       "       [ 0,  1,  0, ...,  8,  0,  0],\n",
       "       [ 0,  0,  0, ...,  1, 10,  0],\n",
       "       [ 0,  0,  0, ...,  0,  0, 13]])"
      ]
     },
     "execution_count": 22,
     "metadata": {},
     "output_type": "execute_result"
    }
   ],
   "source": [
    "from sklearn import metrics\n",
    "cnf_matrix = metrics.confusion_matrix(y_test, y_pred)\n",
    "cnf_matrix"
   ]
  },
  {
   "cell_type": "code",
   "execution_count": 23,
   "metadata": {},
   "outputs": [
    {
     "data": {
      "text/plain": [
       "array([35., 29., 16., 33., 35.,  7., 13., 38., 27., 30., 16.,  8., 28.,\n",
       "        8., 16., 38., 13., 29., 12., 35., 19., 21., 36., 38., 25., 24.,\n",
       "        7.,  1., 10., 34., 21., 12., 33., 11., 38., 26., 16., 17., 26.,\n",
       "       32., 33., 20., 38., 13.,  4., 25.,  7., 37., 21.,  5., 10., 35.,\n",
       "       38.,  1., 35., 27., 28., 16.,  6., 10.,  2.,  2., 37., 12., 13.,\n",
       "       15., 34., 30.,  6., 17., 30.,  4., 21., 12., 26., 25., 27., 33.,\n",
       "       15., 23., 24., 28., 15.,  4., 12., 25., 31., 26., 15., 39., 24.,\n",
       "       27., 26., 36., 26., 24., 24., 23., 21., 15., 39., 21., 11., 22.,\n",
       "       18.,  8., 25., 12., 33., 15., 22., 23., 35.,  1.,  3., 24., 18.,\n",
       "       28., 13.,  4., 23., 29., 32., 30., 10., 33.,  8., 34., 17., 30.,\n",
       "       17., 19., 31., 37., 28.,  3., 39., 23.,  9., 35., 33., 32.,  9.,\n",
       "        4.,  7.,  8.,  6., 15., 24.,  5., 16., 39., 26.,  3., 11.,  5.,\n",
       "       38.,  8., 34., 37., 12., 34., 39., 24., 12., 36., 15., 17., 12.,\n",
       "       35., 13., 23., 18., 28.,  1., 24., 35., 25., 21.,  6., 17., 28.,\n",
       "        8.,  2.,  3., 12.,  2., 30., 37., 18., 20., 21., 36., 19., 22.,\n",
       "       22., 39., 28.,  3., 11., 22., 28., 27., 15., 26., 11., 38., 22.,\n",
       "       23., 12.,  8.,  5.,  8., 26.,  1., 21.,  1.,  9., 11., 23., 10.,\n",
       "       25.,  6.,  4.,  7., 12., 25., 25., 11., 19., 15., 17.,  7., 25.,\n",
       "       13., 32.,  9., 27., 27.,  2., 37., 15.,  7.,  5., 10., 27., 11.,\n",
       "       18.,  1., 15., 33., 39.,  8., 33.,  7., 23., 16., 31., 12.,  5.,\n",
       "       16., 26., 35.,  9.,  0., 34., 13., 21., 29., 34., 39., 35., 27.,\n",
       "       36.,  3., 33., 27.,  1., 37., 36., 39.,  4., 38., 25., 19., 36.,\n",
       "       11., 23., 15., 33., 37., 22., 21., 18., 31., 36.,  2., 23., 25.,\n",
       "       19.,  3.,  9.,  2., 20.,  7., 24., 39., 27., 23., 32., 29., 33.,\n",
       "       26., 20., 23., 12., 15.,  5., 24., 38.,  5., 19., 30., 33., 22.,\n",
       "       31., 15.,  9., 38.,  9.,  3.,  8., 17., 33.,  7., 38., 35.,  3.,\n",
       "        4., 36., 34.,  2., 27., 21., 33., 32., 19., 27., 30., 11.,  9.,\n",
       "       19., 31., 32., 39.,  2., 30., 18., 25., 38.,  6.,  3., 15., 28.,\n",
       "        1.,  6., 11., 33., 38., 33., 28., 31.,  8., 12., 39., 32., 16.,\n",
       "        2.,  7., 18., 19., 12., 25., 32.,  1., 22.,  1., 17., 24., 12.,\n",
       "        9.,  4., 26.,  4.,  6., 17., 18., 27., 24., 17., 23.,  3., 33.,\n",
       "       23., 28.,  8., 37.,  8., 32.,  1., 29., 39.,  7., 24.,  8., 36.,\n",
       "       29., 10., 38., 11., 35.,  3., 25.,  8., 28., 39., 26., 30., 27.,\n",
       "       34., 10., 21., 35., 35.,  1., 22., 33.,  2., 29., 25., 39.,  3.,\n",
       "       28., 33., 22., 32., 22., 13., 12.,  8., 11., 23.,  4., 20., 12.,\n",
       "        4.,  5., 24., 17., 34., 29., 35., 21.,  4., 36.,  7., 35., 37.,\n",
       "        9., 20.,  6.,  7., 26., 36., 28.,  9., 20., 39., 20., 30., 38.,\n",
       "       10., 35., 20., 10., 20., 36., 31., 10.,  2., 13., 29., 25., 25.,\n",
       "       38., 21., 23., 19., 30., 22., 17., 31., 23.,  5., 27., 25., 33.,\n",
       "       34., 15.,  3., 22., 21., 26.,  7., 19., 24., 29., 38., 29., 12.,\n",
       "       21., 18.,  1.])"
      ]
     },
     "execution_count": 23,
     "metadata": {},
     "output_type": "execute_result"
    }
   ],
   "source": [
    "y_test"
   ]
  },
  {
   "cell_type": "code",
   "execution_count": 24,
   "metadata": {},
   "outputs": [
    {
     "data": {
      "text/plain": [
       "(39, 39)"
      ]
     },
     "execution_count": 24,
     "metadata": {},
     "output_type": "execute_result"
    }
   ],
   "source": [
    "np.shape(cnf_matrix)"
   ]
  },
  {
   "cell_type": "code",
   "execution_count": 25,
   "metadata": {},
   "outputs": [
    {
     "data": {
      "image/png": "[encoded data removed]",
      "text/plain": [
       "<Figure size 432x288 with 2 Axes>"
      ]
     },
     "metadata": {
      "needs_background": "light"
     },
     "output_type": "display_data"
    }
   ],
   "source": [
    "labels = list(range(39))\n",
    "#print(cnf_matrix)\n",
    "fig = plt.figure()\n",
    "ax = fig.add_subplot(111)\n",
    "cax = ax.matshow(cnf_matrix)\n",
    "plt.title('Confusion matrix of the classifier')\n",
    "fig.colorbar(cax)\n",
    "#ax.set_xticklabels([''] + labels)\n",
    "#ax.set_yticklabels([''] + labels)\n",
    "plt.xlabel('Predicted')\n",
    "plt.ylabel('True')\n",
    "plt.show()"
   ]
  },
  {
   "cell_type": "code",
   "execution_count": null,
   "metadata": {},
   "outputs": [],
   "source": []
  }
 ],
 "metadata": {
  "kernelspec": {
   "display_name": "Python 3",
   "language": "python",
   "name": "python3"
  },
  "language_info": {
   "codemirror_mode": {
    "name": "ipython",
    "version": 3
   },
   "file_extension": ".py",
   "mimetype": "text/x-python",
   "name": "python",
   "nbconvert_exporter": "python",
   "pygments_lexer": "ipython3",
   "version": "3.7.2"
  }
 },
 "nbformat": 4,
 "nbformat_minor": 2
}
